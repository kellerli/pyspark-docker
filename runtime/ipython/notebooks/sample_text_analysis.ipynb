{
 "metadata": {
  "name": "",
  "signature": "sha256:8a5afeb8ccf373140336b4ac9e25cb45675e1f01b8b6c5f9f96d4cc1d59e86ac"
 },
 "nbformat": 3,
 "nbformat_minor": 0,
 "worksheets": [
  {
   "cells": [
    {
     "cell_type": "code",
     "collapsed": true,
     "input": [
      "from pyspark import SparkContext\n",
      "import os, sys, getopt\n",
      "import xml.etree.ElementTree as ET\n",
      "\n",
      "import pandas as pd\n",
      "from pandas import Series, DataFrame"
     ],
     "language": "python",
     "metadata": {},
     "outputs": [],
     "prompt_number": 41
    },
    {
     "cell_type": "code",
     "collapsed": false,
     "input": [
      "# use below if testing small datasets using local Spark before submitting to cluster\n",
      "#sc.stop()\n",
      "#sc = SparkContext(\"local\", \"NewContext\")\n",
      "#sc = SparkContext(\"spark://fqdn-of-spark-master:7077\", \"SampleTextAnalysis\")"
     ],
     "language": "python",
     "metadata": {},
     "outputs": [],
     "prompt_number": 50
    },
    {
     "cell_type": "code",
     "collapsed": false,
     "input": [
      "# verify environment variables and SparkContext\n",
      "print \"Using Environment: '{}'\".format(os.environ['PYSPARK_SUBMIT_ARGS'])\n",
      "print \"Spark jobs will submit to {}\".format(sc.master)"
     ],
     "language": "python",
     "metadata": {},
     "outputs": [
      {
       "output_type": "stream",
       "stream": "stdout",
       "text": [
        "Using Environment: '--master spark://fqdn-of-spark-master:7077'\n",
        "Spark jobs will submit to local\n"
       ]
      }
     ],
     "prompt_number": 51
    },
    {
     "cell_type": "code",
     "collapsed": false,
     "input": [
      "# hadoop config file\n",
      "hdfs_server_config = '/etc/hadoop/conf/core-site.xml'"
     ],
     "language": "python",
     "metadata": {},
     "outputs": [],
     "prompt_number": 52
    },
    {
     "cell_type": "code",
     "collapsed": false,
     "input": [
      "# parse hadoop config file and return hdfs server\n",
      "def get_hdfs_server_address():\n",
      "    \n",
      "    # parse xml config\n",
      "    xml = ET.parse(hdfs_server_config).getroot()\n",
      "\n",
      "    # return property.value\n",
      "    for prop in xml.findall('property'):\n",
      "        if prop.find('name').text == 'fs.defaultFS':\n",
      "            prefix, server, port = prop.find('value').text.split(':')\n",
      "            return \"{}:{}\".format(prefix, server)\n",
      "\n",
      "\n",
      "def top_domains(textFile, csv_field=3, take=10):\n",
      "    ''' determine most queried domain '''\n",
      "        \n",
      "    # calculate top domains\n",
      "    top_domains = textFile.map(lambda line: line.split(\",\")[csv_field]) \\\n",
      "                          .map(lambda word: (word, 1)) \\\n",
      "                          .reduceByKey(lambda a, b: a+b) \\\n",
      "                          .map(lambda x:(x[1],x[0])) \\\n",
      "                          .sortByKey(False) \\\n",
      "                          .take(take)\n",
      "    \n",
      "    # return results in a dataframe\n",
      "    return DataFrame(top_domains, columns=['count', 'domain'])\n",
      "\n",
      "\n",
      "def top_words(textFile, take=10):\n",
      "    ''' determine most frequent words '''\n",
      "        \n",
      "    # calculate top domains\n",
      "    wordcounts = textFile \\\n",
      "                    .map( lambda x: x.replace(',',' ').replace('.',' ').replace('-',' ').lower()) \\\n",
      "                    .flatMap(lambda x: x.split()) \\\n",
      "                    .map(lambda x: (x, 1)) \\\n",
      "                    .reduceByKey(lambda x,y:x+y) \\\n",
      "                    .map(lambda x:(x[1],x[0])) \\\n",
      "                    .sortByKey(False) \\\n",
      "                    .take(take)\n",
      "    \n",
      "    # return results in a dataframe\n",
      "    return DataFrame(wordcounts, columns=['count', 'word'])\n",
      "\n",
      "\n",
      "def line_filter_count(textFile, regex):\n",
      "    ''' count the number of lines with a given pattern '''\n",
      "    return textFile.filter(lambda line: regex in line).count()"
     ],
     "language": "python",
     "metadata": {},
     "outputs": [],
     "prompt_number": 53
    },
    {
     "cell_type": "code",
     "collapsed": false,
     "input": [
      "# define hdfs path to hdfs://server/file\n",
      "inputfile = '/example-spark-wikipedia.csv.gz'\n",
      "inputfile_hdfs = get_hdfs_server_address() + inputfile\n",
      "print \"Working with input file %s\" % inputfile_hdfs"
     ],
     "language": "python",
     "metadata": {},
     "outputs": [
      {
       "output_type": "stream",
       "stream": "stdout",
       "text": [
        "Working with input file hdfs://hdfs-name-node/example-spark-wikipedia.csv.gz\n"
       ]
      }
     ],
     "prompt_number": 54
    },
    {
     "cell_type": "code",
     "collapsed": false,
     "input": [
      "# load file from hdfs\n",
      "textFile = sc.textFile(inputfile_hdfs) #.cache()"
     ],
     "language": "python",
     "metadata": {},
     "outputs": [],
     "prompt_number": 55
    },
    {
     "cell_type": "code",
     "collapsed": false,
     "input": [
      "# print first line\n",
      "line_first = textFile.first()\n",
      "print \"First line: %s\" % line_first"
     ],
     "language": "python",
     "metadata": {},
     "outputs": [
      {
       "output_type": "stream",
       "stream": "stdout",
       "text": [
        "First line: IPv4_SrcAddr,IPv4_TTL,DNS_QuestionRR,DNS_RR_Name,DNS_RR_TLD,DNS_RR_TypeText,Statistic_TimeLastSeen\n"
       ]
      }
     ],
     "prompt_number": 56
    },
    {
     "cell_type": "code",
     "collapsed": false,
     "input": [
      "# count lines\n",
      "line_count = textFile.count()\n",
      "print \"Total Lines = %s\" % line_count"
     ],
     "language": "python",
     "metadata": {},
     "outputs": [
      {
       "output_type": "stream",
       "stream": "stdout",
       "text": [
        "Total Lines = 3448\n"
       ]
      }
     ],
     "prompt_number": 57
    },
    {
     "cell_type": "code",
     "collapsed": false,
     "input": [
      "# count TLDs\n",
      "org_line_count = line_filter_count(textFile, \".org\")\n",
      "com_line_count = line_filter_count(textFile, \".com\")\n",
      "print \"Number of domains:\"\n",
      "print \"{:>10}: {}\".format(\".org\", org_line_count)\n",
      "print \"{:>10}: {}\".format(\".org\", com_line_count)"
     ],
     "language": "python",
     "metadata": {},
     "outputs": [
      {
       "output_type": "stream",
       "stream": "stdout",
       "text": [
        "Number of domains:\n",
        "      .org: 153\n",
        "      .org: 1309\n"
       ]
      }
     ],
     "prompt_number": 58
    },
    {
     "cell_type": "code",
     "collapsed": false,
     "input": [
      "# calculate most-queried DNS servers\n",
      "domains = top_domains(textFile)\n",
      "print \"Top queried domains:\"\n",
      "domains"
     ],
     "language": "python",
     "metadata": {},
     "outputs": [
      {
       "output_type": "stream",
       "stream": "stdout",
       "text": [
        "Top queried domains:\n"
       ]
      },
      {
       "html": [
        "<div style=\"max-height:1000px;max-width:1500px;overflow:auto;\">\n",
        "<table border=\"1\" class=\"dataframe\">\n",
        "  <thead>\n",
        "    <tr style=\"text-align: right;\">\n",
        "      <th></th>\n",
        "      <th>count</th>\n",
        "      <th>domain</th>\n",
        "    </tr>\n",
        "  </thead>\n",
        "  <tbody>\n",
        "    <tr>\n",
        "      <th>0</th>\n",
        "      <td> 28</td>\n",
        "      <td>              ns1.gslb.com</td>\n",
        "    </tr>\n",
        "    <tr>\n",
        "      <th>1</th>\n",
        "      <td> 19</td>\n",
        "      <td>              ns2.gslb.com</td>\n",
        "    </tr>\n",
        "    <tr>\n",
        "      <th>2</th>\n",
        "      <td> 10</td>\n",
        "      <td>    ns2.zj.chinamobile.com</td>\n",
        "    </tr>\n",
        "    <tr>\n",
        "      <th>3</th>\n",
        "      <td>  9</td>\n",
        "      <td>              ns5.msft.net</td>\n",
        "    </tr>\n",
        "    <tr>\n",
        "      <th>4</th>\n",
        "      <td>  8</td>\n",
        "      <td>        pdns3.ultradns.org</td>\n",
        "    </tr>\n",
        "    <tr>\n",
        "      <th>5</th>\n",
        "      <td>  7</td>\n",
        "      <td> glb2.glbdns.microsoft.com</td>\n",
        "    </tr>\n",
        "    <tr>\n",
        "      <th>6</th>\n",
        "      <td>  7</td>\n",
        "      <td>        pdns4.ultradns.org</td>\n",
        "    </tr>\n",
        "    <tr>\n",
        "      <th>7</th>\n",
        "      <td>  7</td>\n",
        "      <td>              ns3.msft.net</td>\n",
        "    </tr>\n",
        "    <tr>\n",
        "      <th>8</th>\n",
        "      <td>  7</td>\n",
        "      <td>          ns1.n.shifen.com</td>\n",
        "    </tr>\n",
        "    <tr>\n",
        "      <th>9</th>\n",
        "      <td>  7</td>\n",
        "      <td>             ns4.apnic.net</td>\n",
        "    </tr>\n",
        "  </tbody>\n",
        "</table>\n",
        "</div>"
       ],
       "metadata": {},
       "output_type": "pyout",
       "prompt_number": 61,
       "text": [
        "   count                     domain\n",
        "0     28               ns1.gslb.com\n",
        "1     19               ns2.gslb.com\n",
        "2     10     ns2.zj.chinamobile.com\n",
        "3      9               ns5.msft.net\n",
        "4      8         pdns3.ultradns.org\n",
        "5      7  glb2.glbdns.microsoft.com\n",
        "6      7         pdns4.ultradns.org\n",
        "7      7               ns3.msft.net\n",
        "8      7           ns1.n.shifen.com\n",
        "9      7              ns4.apnic.net"
       ]
      }
     ],
     "prompt_number": 61
    },
    {
     "cell_type": "code",
     "collapsed": false,
     "input": [
      "# calculate most frequent \"words\"\n",
      "words = top_words(textFile)\n",
      "print \"Top words:\"\n",
      "words"
     ],
     "language": "python",
     "metadata": {},
     "outputs": [
      {
       "output_type": "stream",
       "stream": "stdout",
       "text": [
        "Top words:\n"
       ]
      },
      {
       "html": [
        "<div style=\"max-height:1000px;max-width:1500px;overflow:auto;\">\n",
        "<table border=\"1\" class=\"dataframe\">\n",
        "  <thead>\n",
        "    <tr style=\"text-align: right;\">\n",
        "      <th></th>\n",
        "      <th>count</th>\n",
        "      <th>word</th>\n",
        "    </tr>\n",
        "  </thead>\n",
        "  <tbody>\n",
        "    <tr>\n",
        "      <th>0</th>\n",
        "      <td> 3625</td>\n",
        "      <td>     1</td>\n",
        "    </tr>\n",
        "    <tr>\n",
        "      <th>1</th>\n",
        "      <td> 3492</td>\n",
        "      <td>    30</td>\n",
        "    </tr>\n",
        "    <tr>\n",
        "      <th>2</th>\n",
        "      <td> 3448</td>\n",
        "      <td>    09</td>\n",
        "    </tr>\n",
        "    <tr>\n",
        "      <th>3</th>\n",
        "      <td> 3447</td>\n",
        "      <td>  2013</td>\n",
        "    </tr>\n",
        "    <tr>\n",
        "      <th>4</th>\n",
        "      <td> 2556</td>\n",
        "      <td>   com</td>\n",
        "    </tr>\n",
        "    <tr>\n",
        "      <th>5</th>\n",
        "      <td> 2080</td>\n",
        "      <td>     a</td>\n",
        "    </tr>\n",
        "    <tr>\n",
        "      <th>6</th>\n",
        "      <td> 1654</td>\n",
        "      <td>   net</td>\n",
        "    </tr>\n",
        "    <tr>\n",
        "      <th>7</th>\n",
        "      <td> 1080</td>\n",
        "      <td>  aaaa</td>\n",
        "    </tr>\n",
        "    <tr>\n",
        "      <th>8</th>\n",
        "      <td>  548</td>\n",
        "      <td> local</td>\n",
        "    </tr>\n",
        "    <tr>\n",
        "      <th>9</th>\n",
        "      <td>  500</td>\n",
        "      <td>    50</td>\n",
        "    </tr>\n",
        "  </tbody>\n",
        "</table>\n",
        "</div>"
       ],
       "metadata": {},
       "output_type": "pyout",
       "prompt_number": 62,
       "text": [
        "   count   word\n",
        "0   3625      1\n",
        "1   3492     30\n",
        "2   3448     09\n",
        "3   3447   2013\n",
        "4   2556    com\n",
        "5   2080      a\n",
        "6   1654    net\n",
        "7   1080   aaaa\n",
        "8    548  local\n",
        "9    500     50"
       ]
      }
     ],
     "prompt_number": 62
    },
    {
     "cell_type": "markdown",
     "metadata": {},
     "source": [
      "## MLLib Example"
     ]
    },
    {
     "cell_type": "code",
     "collapsed": false,
     "input": [
      "from pyspark.mllib.regression import LabeledPoint\n",
      "from pyspark.mllib.classification import SVMWithSGD\n",
      "from numpy import array\n",
      "\n",
      "data = [\n",
      "    LabeledPoint(0.0, [0.0]),\n",
      "    LabeledPoint(1.0, [1.0]),\n",
      "    LabeledPoint(1.0, [2.0]),\n",
      "    LabeledPoint(1.0, [3.0])\n",
      "]\n",
      "\n",
      "svm = SVMWithSGD.train(sc.parallelize(data))\n",
      "svm.predict(array([1.0])) > 0"
     ],
     "language": "python",
     "metadata": {},
     "outputs": []
    },
    {
     "cell_type": "code",
     "collapsed": false,
     "input": [
      "# shutdown context\n",
      "sc.stop()"
     ],
     "language": "python",
     "metadata": {},
     "outputs": [],
     "prompt_number": 58
    }
   ],
   "metadata": {}
  }
 ]
}
